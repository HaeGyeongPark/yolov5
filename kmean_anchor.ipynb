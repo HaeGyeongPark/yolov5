{
 "cells": [
  {
   "cell_type": "code",
   "execution_count": 21,
   "metadata": {},
   "outputs": [],
   "source": [
    "import random\n",
    "\n",
    "import numpy as np\n",
    "import torch\n",
    "import yaml\n",
    "from tqdm import tqdm\n",
    "\n",
    "from utils import TryExcept\n",
    "from utils.general import LOGGER, TQDM_BAR_FORMAT, colorstr\n",
    "\n",
    "from sklearn.cluster import KMeans"
   ]
  },
  {
   "cell_type": "code",
   "execution_count": 22,
   "metadata": {},
   "outputs": [],
   "source": [
    "dataset=\"./data/nuscenes.yaml\"\n",
    "n = 3"
   ]
  },
  {
   "cell_type": "code",
   "execution_count": 23,
   "metadata": {},
   "outputs": [
    {
     "name": "stderr",
     "output_type": "stream",
     "text": [
      "Scanning datasets/nuscenes/train.cache... 28130 images, 1425 backgrounds, 0 corrupt: 100%|██████████| 28130/28130 [00:00<?, ?it/s]\n"
     ]
    }
   ],
   "source": [
    "if isinstance(dataset, str):  # *.yaml file\n",
    "    with open(dataset, errors=\"ignore\") as f:\n",
    "        data_dict = yaml.safe_load(f)  # model dict\n",
    "    from utils.dataloaders import LoadImagesAndLabels\n",
    "\n",
    "    dataset = LoadImagesAndLabels(data_dict[\"train\"], augment=True, rect=True)\n",
    "\n",
    "# Get label wh\n",
    "shapes = img_size * dataset.shapes / dataset.shapes.max(1, keepdims=True)\n",
    "wh0 = np.concatenate([l[:, 3:5] * s for s, l in zip(shapes, dataset.labels)])  # wh\n",
    "\n",
    "# Filter\n",
    "i = (wh0 < 3.0).any(1).sum()\n",
    "wh = wh0[(wh0 >= 2.0).any(1)].astype(np.float32)  # filter > 2 pixels\n",
    "# wh = wh * (npr.rand(wh.shape[0], 1) * 0.9 + 0.1)  # multiply by random scale 0-1"
   ]
  },
  {
   "cell_type": "code",
   "execution_count": 26,
   "metadata": {},
   "outputs": [
    {
     "name": "stdout",
     "output_type": "stream",
     "text": [
      "268822\n"
     ]
    }
   ],
   "source": [
    "print(wh.shape[0])"
   ]
  },
  {
   "cell_type": "code",
   "execution_count": 34,
   "metadata": {},
   "outputs": [
    {
     "name": "stdout",
     "output_type": "stream",
     "text": [
      "Anchor for P3/8: [17 17]\n",
      "Anchor for P4/16: [64 39]\n",
      "Anchor for P5/32: [ 93 131]\n"
     ]
    }
   ],
   "source": [
    "kmeans = KMeans(n_clusters=n)\n",
    "kmeans.fit(wh)\n",
    "anchors = kmeans.cluster_centers_\n",
    "\n",
    "anchors = np.round(anchors).astype(int)\n",
    "anchors = anchors[np.argsort(anchors[:, 0] * anchors[:, 1])]\n",
    "anchors = anchors.reshape((3, 1, 2))\n",
    "\n",
    "for i, scale in enumerate([\"P3/8\", \"P4/16\", \"P5/32\"]):\n",
    "    print(f\"Anchor for {scale}: {anchors[i][0]}\")\n"
   ]
  }
 ],
 "metadata": {
  "kernelspec": {
   "display_name": "Python 3",
   "language": "python",
   "name": "python3"
  },
  "language_info": {
   "codemirror_mode": {
    "name": "ipython",
    "version": 3
   },
   "file_extension": ".py",
   "mimetype": "text/x-python",
   "name": "python",
   "nbconvert_exporter": "python",
   "pygments_lexer": "ipython3",
   "version": "3.10.12"
  }
 },
 "nbformat": 4,
 "nbformat_minor": 2
}
